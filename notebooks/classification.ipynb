{
 "cells": [
  {
   "cell_type": "markdown",
   "id": "0f1dc3cc-9648-44d3-b0e6-9a4461db4f4b",
   "metadata": {},
   "source": [
    "# 1.0 Imports"
   ]
  },
  {
   "cell_type": "code",
   "execution_count": 1,
   "id": "d5c682cc-7403-4e02-a8f4-f202be819b8b",
   "metadata": {},
   "outputs": [],
   "source": [
    "import numpy as np\n",
    "import pandas as pd\n",
    "\n",
    "from sklearn.neighbors import KNeighborsClassifier\n",
    "from sklearn.tree import DecisionTreeClassifier\n",
    "from sklearn.ensemble import RandomForestClassifier\n",
    "from sklearn.linear_model import LogisticRegression\n",
    "from sklearn.metrics import accuracy_score, precision_score, recall_score, f1_score\n",
    "from sklearn.model_selection import GridSearchCV\n",
    "\n",
    "import warnings\n",
    "warnings.filterwarnings(\"ignore\")"
   ]
  },
  {
   "cell_type": "markdown",
   "id": "545d0c4c-2ce4-4772-81b5-b7798fee9752",
   "metadata": {},
   "source": [
    "## 1.1 Funções"
   ]
  },
  {
   "cell_type": "code",
   "execution_count": 2,
   "id": "cdf2cc2e-d4cc-4b1e-9a1a-9f3e975b8e6d",
   "metadata": {},
   "outputs": [],
   "source": [
    "# Função para calcular métricas\n",
    "def calcular_metricas(y_true, y_pred):\n",
    "    return {\n",
    "        \"Accuracy\": accuracy_score(y_true, y_pred),\n",
    "        \"Precision\": precision_score(y_true, y_pred, average='weighted'),\n",
    "        \"Recall\": recall_score(y_true, y_pred, average='weighted'),\n",
    "        \"F1-Score\": f1_score(y_true, y_pred, average='weighted')\n",
    "    }\n",
    "\n",
    "# Função para realizar Grid Search\n",
    "def grid_search(model, param_grid, X_train, y_train):\n",
    "    grid_search = GridSearchCV(model, param_grid)\n",
    "    grid_search.fit(X_train, y_train)\n",
    "    return grid_search.best_params_"
   ]
  },
  {
   "cell_type": "markdown",
   "id": "d205902b-73bb-40b3-b023-45b28a328fc7",
   "metadata": {},
   "source": [
    "# 2.0 Leitura dos Dados"
   ]
  },
  {
   "cell_type": "code",
   "execution_count": 3,
   "id": "3fefe59c-a367-4a42-b98c-89605e867b4a",
   "metadata": {},
   "outputs": [],
   "source": [
    "x_train = pd.read_csv( '../datasets/classification/X_training.csv' )\n",
    "y_train = pd.read_csv( '../datasets/classification/y_training.csv' )\n",
    "\n",
    "x_val = pd.read_csv( '../datasets/classification/X_validation.csv' )\n",
    "y_val = pd.read_csv( '../datasets/classification/y_validation.csv' )\n",
    "\n",
    "x_test = pd.read_csv( '../datasets/classification/X_test.csv' )\n",
    "y_test = pd.read_csv( '../datasets/classification/y_test.csv' )"
   ]
  },
  {
   "cell_type": "markdown",
   "id": "24811823-f51a-4a99-a92e-0f47527ebd2d",
   "metadata": {},
   "source": [
    "## 2.1 Verificando melhores parametros para treinamento do modelo."
   ]
  },
  {
   "cell_type": "code",
   "execution_count": 4,
   "id": "9180d4f9-a999-43be-a4bd-f62215f5fa36",
   "metadata": {},
   "outputs": [],
   "source": [
    "# Definindo os modelos\n",
    "rf_model = RandomForestClassifier()\n",
    "knn_model = KNeighborsClassifier()\n",
    "logreg_model = LogisticRegression()\n",
    "dt_model = DecisionTreeClassifier()\n",
    "\n",
    "# Definindo as grades de parâmetros\n",
    "rf_param_grid = {'n_estimators': [10, 50, 100, 200], 'max_depth': [None, 10, 20, 30]}\n",
    "knn_param_grid = {'n_neighbors': [3, 5, 7, 9]}\n",
    "logreg_param_grid = {'solver': ['newton-cg', 'lbfgs', 'liblinear', 'sag', 'saga'], 'max_iter': [100, 200, 300]}\n",
    "dt_param_grid = {'max_depth': [None, 10, 20, 30, 40]}"
   ]
  },
  {
   "cell_type": "code",
   "execution_count": 5,
   "id": "bdbe9bf4-f88f-4138-b889-107a7cbb5ad6",
   "metadata": {},
   "outputs": [
    {
     "name": "stdout",
     "output_type": "stream",
     "text": [
      "Melhores parâmetros para Random Forest: {'max_depth': 30, 'n_estimators': 200}\n",
      "Melhores parâmetros para KNN: {'n_neighbors': 3}\n",
      "Melhores parâmetros para Logistic Regression: {'max_iter': 100, 'solver': 'newton-cg'}\n",
      "Melhores parâmetros para Decision Tree: {'max_depth': 10}\n"
     ]
    }
   ],
   "source": [
    "# Random Forest\n",
    "rf_best_params = grid_search(rf_model, rf_param_grid, x_train, y_train)\n",
    "print(\"Melhores parâmetros para Random Forest:\", rf_best_params)\n",
    "\n",
    "# K-Neighbors\n",
    "knn_best_params = grid_search(knn_model, knn_param_grid, x_train, y_train)\n",
    "print(\"Melhores parâmetros para KNN:\", knn_best_params)\n",
    "\n",
    "# Logistic Regression\n",
    "logreg_best_params = grid_search(logreg_model, logreg_param_grid, x_train, y_train)\n",
    "print(\"Melhores parâmetros para Logistic Regression:\", logreg_best_params)\n",
    "\n",
    "# Decision Tree\n",
    "dt_best_params = grid_search(dt_model, dt_param_grid, x_train, y_train)\n",
    "print(\"Melhores parâmetros para Decision Tree:\", dt_best_params)"
   ]
  },
  {
   "cell_type": "markdown",
   "id": "b7c00228-8f1e-4741-8fdc-7e85e2712113",
   "metadata": {},
   "source": [
    "# 3.0 Algoritmos de Machine Learning"
   ]
  },
  {
   "cell_type": "code",
   "execution_count": 6,
   "id": "9cc59f41-952a-4af9-888d-c8a771825d86",
   "metadata": {},
   "outputs": [
    {
     "name": "stdout",
     "output_type": "stream",
     "text": [
      "Modelo KNN treinado.\n",
      "Modelo Decision Tree treinado.\n",
      "Modelo Random Forest treinado.\n",
      "Modelo Logistic Regression treinado.\n"
     ]
    }
   ],
   "source": [
    "# Definindo os modelos\n",
    "modelos = {\n",
    "    \"KNN\": KNeighborsClassifier(n_neighbors=3),\n",
    "    \"Decision Tree\": DecisionTreeClassifier(max_depth=10),\n",
    "    \"Random Forest\": RandomForestClassifier(max_depth=30, n_estimators=200),\n",
    "    \"Logistic Regression\": LogisticRegression(max_iter=100, solver='newton-cg')\n",
    "}\n",
    "# Treinando os modelos e armazenando as métricas de treinamento e validação\n",
    "resultados_treinamento = []\n",
    "resultados_validacao = []\n",
    "\n",
    "for nome, modelo in modelos.items():\n",
    "    # Treinamento\n",
    "    modelo.fit(x_train, y_train)\n",
    "    y_pred_treino = modelo.predict(x_train)\n",
    "    metricas_treino = calcular_metricas(y_train, y_pred_treino)\n",
    "    resultados_treinamento.append({\"Modelo\": nome, **metricas_treino})\n",
    "    print(f\"Modelo {nome} treinado.\")\n",
    "\n",
    "    # Validação\n",
    "    y_pred_val = modelo.predict(x_val)\n",
    "    metricas_val = calcular_metricas(y_val, y_pred_val)\n",
    "    resultados_validacao.append({\"Modelo\": nome, **metricas_val})"
   ]
  },
  {
   "cell_type": "markdown",
   "id": "0b214c93-30a7-4f75-9ee4-6a3b0e53e680",
   "metadata": {},
   "source": [
    "# 4.0 Performance"
   ]
  },
  {
   "cell_type": "code",
   "execution_count": 7,
   "id": "370220dd-23e9-492e-9820-0e2f71e1ef5a",
   "metadata": {},
   "outputs": [
    {
     "name": "stdout",
     "output_type": "stream",
     "text": [
      "Resultados de Treinamento:\n",
      "                Modelo  Accuracy  Precision    Recall  F1-Score\n",
      "0                  KNN  0.832186   0.831913  0.832186  0.831998\n",
      "1        Decision Tree  0.955444   0.955642  0.955444  0.955349\n",
      "2        Random Forest  1.000000   1.000000  1.000000  1.000000\n",
      "3  Logistic Regression  0.876081   0.875951  0.876081  0.875757\n",
      "\n",
      "Resultados de Validação:\n",
      "                Modelo  Accuracy  Precision    Recall  F1-Score\n",
      "0                  KNN  0.676277   0.675892  0.676277  0.676070\n",
      "1        Decision Tree  0.947006   0.947177  0.947006  0.946891\n",
      "2        Random Forest  0.964864   0.965059  0.964864  0.964796\n",
      "3  Logistic Regression  0.874385   0.874241  0.874385  0.874061\n"
     ]
    }
   ],
   "source": [
    "# Criando tabelas de resultados\n",
    "tabela_treinamento = pd.DataFrame(resultados_treinamento)\n",
    "tabela_validacao = pd.DataFrame(resultados_validacao)\n",
    "\n",
    "# Exibindo os resultados\n",
    "print(\"Resultados de Treinamento:\")\n",
    "print(tabela_treinamento)\n",
    "print(\"\\nResultados de Validação:\")\n",
    "print(tabela_validacao)"
   ]
  },
  {
   "cell_type": "markdown",
   "id": "96a5674a-a132-4b6a-ae00-5f21190d7850",
   "metadata": {},
   "source": [
    "# Dados de Teste"
   ]
  },
  {
   "cell_type": "code",
   "execution_count": 8,
   "id": "e4bf834f-b385-4647-a716-04279237d042",
   "metadata": {},
   "outputs": [
    {
     "name": "stdout",
     "output_type": "stream",
     "text": [
      "\n",
      "Resultados no Conjunto de Teste:\n",
      "                Modelo  Accuracy  Precision    Recall  F1-Score\n",
      "0                  KNN  0.672228   0.671287  0.672228  0.671644\n",
      "1        Decision Tree  0.945931   0.946050  0.945931  0.945838\n",
      "2        Random Forest  0.964006   0.964173  0.964006  0.963946\n",
      "3  Logistic Regression  0.871510   0.871400  0.871510  0.871202\n"
     ]
    }
   ],
   "source": [
    "# Avaliação no conjunto de teste\n",
    "resultados_teste = []\n",
    "\n",
    "for nome, modelo in modelos.items():\n",
    "    y_pred_teste = modelo.predict(x_test)\n",
    "    metricas_teste = calcular_metricas(y_test, y_pred_teste)\n",
    "    resultados_teste.append({\"Modelo\": nome, **metricas_teste})\n",
    "\n",
    "tabela_teste = pd.DataFrame(resultados_teste)\n",
    "print(\"\\nResultados no Conjunto de Teste:\")\n",
    "print(tabela_teste)"
   ]
  },
  {
   "cell_type": "code",
   "execution_count": null,
   "id": "13416b06-8020-4d84-b050-b372cbec4b69",
   "metadata": {},
   "outputs": [],
   "source": []
  }
 ],
 "metadata": {
  "kernelspec": {
   "display_name": "Python 3 (ipykernel)",
   "language": "python",
   "name": "python3"
  },
  "language_info": {
   "codemirror_mode": {
    "name": "ipython",
    "version": 3
   },
   "file_extension": ".py",
   "mimetype": "text/x-python",
   "name": "python",
   "nbconvert_exporter": "python",
   "pygments_lexer": "ipython3",
   "version": "3.9.12"
  }
 },
 "nbformat": 4,
 "nbformat_minor": 5
}
