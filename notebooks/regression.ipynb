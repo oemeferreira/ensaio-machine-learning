{
 "cells": [
  {
   "cell_type": "markdown",
   "id": "62a96632-7845-4719-9f60-c3eb6ce6b7bc",
   "metadata": {},
   "source": [
    "# 1.0 Imports"
   ]
  },
  {
   "cell_type": "code",
   "execution_count": 1,
   "id": "2178a91d-3d06-477c-bd5f-1c165eafd9bd",
   "metadata": {},
   "outputs": [],
   "source": [
    "import pandas as pd\n",
    "import numpy as np\n",
    "\n",
    "from sklearn.metrics import mean_squared_error, r2_score, mean_absolute_error, mean_absolute_percentage_error\n",
    "from sklearn.linear_model import LinearRegression, Lasso, Ridge, ElasticNet\n",
    "from sklearn.tree import DecisionTreeRegressor\n",
    "from sklearn.ensemble import RandomForestRegressor\n",
    "from sklearn.preprocessing import PolynomialFeatures\n",
    "from sklearn.pipeline import Pipeline\n",
    "from sklearn.model_selection import GridSearchCV\n",
    "\n",
    "from matplotlib import pyplot as plt\n",
    "\n",
    "import warnings\n",
    "warnings.filterwarnings(\"ignore\")"
   ]
  },
  {
   "cell_type": "markdown",
   "id": "68699158-2e24-417f-8dac-3f734f3dd966",
   "metadata": {},
   "source": [
    "## 1.1 Funcões"
   ]
  },
  {
   "cell_type": "code",
   "execution_count": 2,
   "id": "75ab4b44-d0fa-49ea-8a10-9b02707bbcd2",
   "metadata": {},
   "outputs": [],
   "source": [
    "# Função para calcular métricas\n",
    "def calcular_metricas(y_true, y_pred):\n",
    "    return {\n",
    "        \"R2\": r2_score(y_true, y_pred),\n",
    "        \"MSE\": mean_squared_error(y_true, y_pred),\n",
    "        \"RMSE\": mean_squared_error(y_true, y_pred, squared=False),\n",
    "        \"MAE\": mean_absolute_error(y_true, y_pred),\n",
    "        \"MAPE\":mean_absolute_percentage_error(y_true, y_pred)\n",
    "    }\n",
    "\n",
    "# Função para realizar Grid Search\n",
    "def grid_search(model, param_grid, X_train, y_train):\n",
    "    grid_search = GridSearchCV(model, param_grid)\n",
    "    grid_search.fit(X_train, y_train)\n",
    "    return grid_search.best_params_"
   ]
  },
  {
   "cell_type": "markdown",
   "id": "af5e146f-f3e5-4765-9b0b-86bf7b83ccb9",
   "metadata": {},
   "source": [
    "# 2.0 Leitura dos Dados"
   ]
  },
  {
   "cell_type": "code",
   "execution_count": 3,
   "id": "f514ef2f-482f-4a9f-bd6c-a83eff34ac31",
   "metadata": {},
   "outputs": [],
   "source": [
    "x_train = pd.read_csv( '../datasets/regression/X_training.csv' )\n",
    "y_train = pd.read_csv( '../datasets/regression/y_training.csv' )\n",
    "\n",
    "x_val = pd.read_csv( '../datasets/regression/X_validation.csv' )\n",
    "y_val = pd.read_csv( '../datasets/regression/y_validation.csv' )\n",
    "\n",
    "x_test = pd.read_csv( '../datasets/regression/X_test.csv' )\n",
    "y_test = pd.read_csv( '../datasets/regression/y_test.csv' )"
   ]
  },
  {
   "cell_type": "markdown",
   "id": "a7db9205-f15e-4b66-8e79-123016f2e05b",
   "metadata": {},
   "source": [
    "## 2.1 Verificando melhores parametros para treinamento do modelo."
   ]
  },
  {
   "cell_type": "code",
   "execution_count": 4,
   "id": "ab1b7984-6df8-4bf0-a3c7-3f5acaa16df6",
   "metadata": {},
   "outputs": [],
   "source": [
    "# Definindo os modelos\n",
    "rf_model = RandomForestRegressor()\n",
    "lrr_model = Ridge()\n",
    "lrl_model = Lasso()\n",
    "lren_model = ElasticNet()\n",
    "dt_model = DecisionTreeRegressor()\n",
    "\n",
    "# Definindo as grades de parâmetros\n",
    "rf_param_grid = {'n_estimators': [10, 50, 100, 200], 'max_depth': [None, 10, 20, 30]}\n",
    "lrr_param_grid = {'alpha': [1.0, 2.0, 5.0, 10.0], 'max_iter': [None, 10, 20, 30]}\n",
    "lrl_param_grid = {'alpha': [1.0, 2.0, 5.0, 10.0], 'max_iter': [None, 10, 20, 30]}\n",
    "lren_param_grid = {'alpha': [1.0, 2.0, 5.0, 10.0], 'l1_ratio': [0.0, 0.5, 1.0], 'max_iter': [None, 10, 20, 30]}\n",
    "dt_param_grid = {'max_depth': [None, 10, 20, 30, 40]}"
   ]
  },
  {
   "cell_type": "code",
   "execution_count": 5,
   "id": "127a2317-5820-4e30-80d6-b39f38da06d3",
   "metadata": {},
   "outputs": [
    {
     "name": "stdout",
     "output_type": "stream",
     "text": [
      "Melhores parâmetros para Random Forest: {'max_depth': 30, 'n_estimators': 200}\n",
      "Melhores parâmetros para Linear Regression Ridge: {'alpha': 5.0, 'max_iter': None}\n",
      "Melhores parâmetros para Linear Regression Lasso: {'alpha': 1.0, 'max_iter': 10}\n",
      "Melhores parâmetros para Linear Regression Elastic Net: {'alpha': 1.0, 'l1_ratio': 0.0, 'max_iter': 20}\n",
      "Melhores parâmetros para Decision Tree: {'max_depth': 10}\n"
     ]
    }
   ],
   "source": [
    "# Random Forest\n",
    "rf_best_params = grid_search(rf_model, rf_param_grid, x_train, y_train)\n",
    "print(\"Melhores parâmetros para Random Forest:\", rf_best_params)\n",
    "\n",
    "# Linear Regression Ridge\n",
    "lrr_best_params = grid_search(lrr_model, lrr_param_grid, x_train, y_train)\n",
    "print(\"Melhores parâmetros para Linear Regression Ridge:\", lrr_best_params)\n",
    "\n",
    "# Linear Regression Lasso\n",
    "lrl_best_params = grid_search(lrl_model, lrl_param_grid, x_train, y_train)\n",
    "print(\"Melhores parâmetros para Linear Regression Lasso:\", lrl_best_params)\n",
    "\n",
    "# Linear Regression Elastic Net\n",
    "lren_best_params = grid_search(lren_model, lren_param_grid, x_train, y_train)\n",
    "print(\"Melhores parâmetros para Linear Regression Elastic Net:\", lren_best_params)\n",
    "\n",
    "# Decision Tree\n",
    "dt_best_params = grid_search(dt_model, dt_param_grid, x_train, y_train)\n",
    "print(\"Melhores parâmetros para Decision Tree:\", dt_best_params)"
   ]
  },
  {
   "cell_type": "markdown",
   "id": "ffd655d0-601f-4297-b4df-2fa5bff667ce",
   "metadata": {},
   "source": [
    "# 3.0 Treinando os Modelos"
   ]
  },
  {
   "cell_type": "code",
   "execution_count": 6,
   "id": "744ddf66-21d4-4277-9bea-1da39ebcec48",
   "metadata": {},
   "outputs": [
    {
     "name": "stdout",
     "output_type": "stream",
     "text": [
      "Modelo Decision Tree treinado.\n",
      "Modelo Random Forest treinado.\n",
      "Modelo Logistic Regression treinado.\n",
      "Modelo Logistic Regression Ridge treinado.\n",
      "Modelo Logistic Regression Lasso treinado.\n",
      "Modelo Logistic Regression Elastic Net treinado.\n"
     ]
    }
   ],
   "source": [
    "# Definindo os modelos\n",
    "modelos = {\n",
    "    \"Decision Tree\": DecisionTreeRegressor(max_depth=10),\n",
    "    \"Random Forest\": RandomForestRegressor(max_depth=None, n_estimators=200),\n",
    "    \"Logistic Regression\": LinearRegression(),\n",
    "    \"Logistic Regression Ridge\": Ridge(alpha=5.0, max_iter=None),\n",
    "    \"Logistic Regression Lasso\": Lasso(alpha=1.0, max_iter=10),\n",
    "    \"Logistic Regression Elastic Net\": ElasticNet(alpha=1.0, l1_ratio=0.0, max_iter=20)\n",
    "}\n",
    "# Treinando os modelos e armazenando as métricas de treinamento e validação\n",
    "resultados_treinamento = []\n",
    "resultados_validacao = []\n",
    "\n",
    "for nome, modelo in modelos.items():\n",
    "    # Treinamento\n",
    "    modelo.fit(x_train, y_train)\n",
    "    y_pred_treino = modelo.predict(x_train)\n",
    "    metricas_treino = calcular_metricas(y_train, y_pred_treino)\n",
    "    resultados_treinamento.append({\"Modelo\": nome, **metricas_treino})\n",
    "    print(f\"Modelo {nome} treinado.\")\n",
    "\n",
    "    # Validação\n",
    "    y_pred_val = modelo.predict(x_val)\n",
    "    metricas_val = calcular_metricas(y_val, y_pred_val)\n",
    "    resultados_validacao.append({\"Modelo\": nome, **metricas_val})"
   ]
  },
  {
   "cell_type": "markdown",
   "id": "ebb356d8-92ec-4458-b656-d40e986d70b1",
   "metadata": {},
   "source": [
    "# 4.0 Performance"
   ]
  },
  {
   "cell_type": "code",
   "execution_count": 7,
   "id": "58de310c-e7f9-4086-b73f-43b2bc04adf3",
   "metadata": {},
   "outputs": [
    {
     "name": "stdout",
     "output_type": "stream",
     "text": [
      "Resultados de Treinamento:\n",
      "                            Modelo        R2         MSE       RMSE  \\\n",
      "0                    Decision Tree  0.384624  294.157341  17.151016   \n",
      "1                    Random Forest  0.904832   45.491423   6.744733   \n",
      "2              Logistic Regression  0.046058  455.996112  21.354065   \n",
      "3        Logistic Regression Ridge  0.046045  456.002667  21.354219   \n",
      "4        Logistic Regression Lasso  0.007401  474.474834  21.782443   \n",
      "5  Logistic Regression Elastic Net  0.010715  472.890766  21.746052   \n",
      "\n",
      "         MAE      MAPE  \n",
      "0  12.925051  4.871412  \n",
      "1   4.823036  2.621872  \n",
      "2  16.998249  8.653186  \n",
      "3  16.998596  8.654275  \n",
      "4  17.305484  8.736697  \n",
      "5  17.277098  8.719880  \n",
      "\n",
      "Resultados de Validação:\n",
      "                            Modelo        R2         MSE       RMSE  \\\n",
      "0                    Decision Tree -0.010764  482.651378  21.969328   \n",
      "1                    Random Forest  0.336046  317.045637  17.805775   \n",
      "2              Logistic Regression  0.039925  458.447042  21.411376   \n",
      "3        Logistic Regression Ridge  0.039936  458.441514  21.411247   \n",
      "4        Logistic Regression Lasso  0.007884  473.747081  21.765732   \n",
      "5  Logistic Regression Elastic Net  0.010747  472.379882  21.734302   \n",
      "\n",
      "         MAE      MAPE  \n",
      "0  16.907509  7.894565  \n",
      "1  12.990506  7.046859  \n",
      "2  17.039754  8.682542  \n",
      "3  17.038532  8.681918  \n",
      "4  17.264922  8.695808  \n",
      "5  17.245585  8.684373  \n"
     ]
    }
   ],
   "source": [
    "# Criando tabelas de resultados\n",
    "tabela_treinamento = pd.DataFrame(resultados_treinamento)\n",
    "tabela_validacao = pd.DataFrame(resultados_validacao)\n",
    "\n",
    "# Exibindo os resultados\n",
    "print(\"Resultados de Treinamento:\")\n",
    "print(tabela_treinamento)\n",
    "print(\"\\nResultados de Validação:\")\n",
    "print(tabela_validacao)"
   ]
  },
  {
   "cell_type": "markdown",
   "id": "1bf9eabe-7a50-4809-9ce7-4a36de82b365",
   "metadata": {},
   "source": [
    "# Dados de Teste"
   ]
  },
  {
   "cell_type": "code",
   "execution_count": 8,
   "id": "64722e39-2139-4425-a06e-80fc31217678",
   "metadata": {},
   "outputs": [
    {
     "name": "stdout",
     "output_type": "stream",
     "text": [
      "Resultados no Conjunto de Teste:\n",
      "                            Modelo        R2         MSE       RMSE  \\\n",
      "0                    Decision Tree  0.036638  469.062024  21.657840   \n",
      "1                    Random Forest  0.353931  314.571659  17.736168   \n",
      "2              Logistic Regression  0.052317  461.427719  21.480869   \n",
      "3        Logistic Regression Ridge  0.052265  461.452970  21.481456   \n",
      "4        Logistic Regression Lasso  0.007646  483.177970  21.981310   \n",
      "5  Logistic Regression Elastic Net  0.010636  481.722175  21.948170   \n",
      "\n",
      "         MAE      MAPE  \n",
      "0  16.822880  6.929010  \n",
      "1  13.020025  6.585227  \n",
      "2  17.129965  8.521859  \n",
      "3  17.128819  8.526457  \n",
      "4  17.472989  8.753477  \n",
      "5  17.447495  8.731736  \n"
     ]
    }
   ],
   "source": [
    "# Avaliação no conjunto de teste\n",
    "resultados_teste = []\n",
    "\n",
    "for nome, modelo in modelos.items():\n",
    "    y_pred_teste = modelo.predict(x_test)\n",
    "    metricas_teste = calcular_metricas(y_test, y_pred_teste)\n",
    "    resultados_teste.append({\"Modelo\": nome, **metricas_teste})\n",
    "\n",
    "tabela_teste = pd.DataFrame(resultados_teste)\n",
    "print(\"Resultados no Conjunto de Teste:\")\n",
    "print(tabela_teste)"
   ]
  },
  {
   "cell_type": "markdown",
   "id": "64ff738d-3198-42d1-82fb-f92b1050f539",
   "metadata": {},
   "source": [
    "# 5.0 Polinomial Regression"
   ]
  },
  {
   "cell_type": "markdown",
   "id": "068c0201-3af7-4b85-9d16-b2ea62b7d890",
   "metadata": {},
   "source": [
    "## 5.1 Testando o melhor grau para o treinamento do modelo"
   ]
  },
  {
   "cell_type": "code",
   "execution_count": 9,
   "id": "95a7ca00-5605-410e-97f4-441f9e42b328",
   "metadata": {},
   "outputs": [
    {
     "name": "stdout",
     "output_type": "stream",
     "text": [
      "Melhor grau: {'polynomialfeatures__degree': 2}\n",
      "Melhor score: 0.06999317918067653\n"
     ]
    }
   ],
   "source": [
    "#intervalo de graus para testar.\n",
    "pparam_grid = {'polynomialfeatures__degree': np.arange(1, 5)}\n",
    "\n",
    "#pipeline com a inclusão da transformação polinomial e a regressão linear.\n",
    "pipeline = Pipeline([\n",
    "    ('polynomialfeatures', PolynomialFeatures()),\n",
    "    ('linearregression', LinearRegression())\n",
    "])\n",
    "\n",
    "#testar todos os graus no intervalo definido para avaliar o desempenho.\n",
    "pgrid_search = GridSearchCV(pipeline, pparam_grid, cv=3)\n",
    "\n",
    "#treinamento\n",
    "pgrid_search.fit(x_train, y_train)\n",
    "\n",
    "# verificar desempenho\n",
    "print(\"Melhor grau:\", pgrid_search.best_params_)\n",
    "print(\"Melhor score:\", pgrid_search.best_score_)"
   ]
  },
  {
   "cell_type": "markdown",
   "id": "fc8b54a0-9e87-44d0-982d-8d7d61e28aec",
   "metadata": {},
   "source": [
    "## 5.2 Transformação Polinomial dos Dados"
   ]
  },
  {
   "cell_type": "code",
   "execution_count": 10,
   "id": "64173e10-e286-4fea-a216-84eb85ceda0a",
   "metadata": {},
   "outputs": [],
   "source": [
    "poly = PolynomialFeatures(degree=2)\n",
    "\n",
    "x_train_poly = poly.fit_transform(x_train)\n",
    "x_val_poly = poly.transform(x_val)\n",
    "x_test_poly = poly.transform(x_test)"
   ]
  },
  {
   "cell_type": "markdown",
   "id": "f413a24a-3c27-4cbc-837d-35a4da86988e",
   "metadata": {},
   "source": [
    "## 5.3 Verificando melhores parametros para treinamento do modelo."
   ]
  },
  {
   "cell_type": "code",
   "execution_count": 11,
   "id": "34981867-172c-4d0b-9ec3-588d7b421b8a",
   "metadata": {},
   "outputs": [],
   "source": [
    "# Definindo os modelos\n",
    "plrr_model = Ridge()\n",
    "plrl_model = Lasso()\n",
    "plren_model = ElasticNet()\n",
    "\n",
    "# Definindo as grades de parâmetros\n",
    "plrr_param_grid = {'alpha': [1.0, 2.0, 5.0, 10.0], 'max_iter': [None, 10, 20, 30]}\n",
    "plrl_param_grid = {'alpha': [1.0, 2.0, 5.0, 10.0], 'max_iter': [None, 10, 20, 30]}\n",
    "plren_param_grid = {'alpha': [1.0, 2.0, 5.0, 10.0], 'l1_ratio': [0.0, 0.5, 1.0], 'max_iter': [None, 10, 20, 30]}"
   ]
  },
  {
   "cell_type": "code",
   "execution_count": 12,
   "id": "9008ab54-f265-4eb6-9d3c-3f25778abf3e",
   "metadata": {},
   "outputs": [
    {
     "name": "stdout",
     "output_type": "stream",
     "text": [
      "Melhores parâmetros para Polinomial Regression Ridge: {'alpha': 2.0, 'max_iter': None}\n",
      "Melhores parâmetros para Polinomial Regression Lasso: {'alpha': 1.0, 'max_iter': 20}\n",
      "Melhores parâmetros para Polinomial Regression Elastic Net: {'alpha': 1.0, 'l1_ratio': 0.0, 'max_iter': 30}\n"
     ]
    }
   ],
   "source": [
    "# Polinomial Regression Ridge\n",
    "plrr_best_params = grid_search(plrr_model, plrr_param_grid, x_train_poly, y_train)\n",
    "print(\"Melhores parâmetros para Polinomial Regression Ridge:\", plrr_best_params)\n",
    "\n",
    "# Polinomial Regression Lasso\n",
    "plrl_best_params = grid_search(plrl_model, plrl_param_grid, x_train_poly, y_train)\n",
    "print(\"Melhores parâmetros para Polinomial Regression Lasso:\", plrl_best_params)\n",
    "\n",
    "# Polinomial Regression Elastic Net\n",
    "plren_best_params = grid_search(plren_model, plren_param_grid, x_train_poly, y_train)\n",
    "print(\"Melhores parâmetros para Polinomial Regression Elastic Net:\", plren_best_params)"
   ]
  },
  {
   "cell_type": "markdown",
   "id": "89036928-0cc3-4360-bc3e-e854c3972dfd",
   "metadata": {},
   "source": [
    "# 5.4 Treinando os Modelos Polinomiais"
   ]
  },
  {
   "cell_type": "code",
   "execution_count": 13,
   "id": "6f698a91-fee1-41e4-b09a-10924966f223",
   "metadata": {},
   "outputs": [
    {
     "name": "stdout",
     "output_type": "stream",
     "text": [
      "Modelo Polinomial Regression treinado.\n",
      "Modelo Polinomial Regression Ridge treinado.\n",
      "Modelo Polinomial Regression Lasso treinado.\n",
      "Modelo Polinomial Regression Elastic Net treinado.\n"
     ]
    }
   ],
   "source": [
    "# Definindo os modelos\n",
    "modelos = {\n",
    "    \"Polinomial Regression\": LinearRegression(),\n",
    "    \"Polinomial Regression Ridge\": Ridge(alpha=2.0, max_iter=None),\n",
    "    \"Polinomial Regression Lasso\": Lasso(alpha=1.0, max_iter=20),\n",
    "    \"Polinomial Regression Elastic Net\": ElasticNet(alpha=1.0, l1_ratio=0.0, max_iter=30)\n",
    "}\n",
    "# Treinando os modelos e armazenando as métricas de treinamento e validação\n",
    "resultados_treinamento = []\n",
    "resultados_validacao = []\n",
    "\n",
    "for nome, modelo in modelos.items():\n",
    "    # Treinamento\n",
    "    modelo.fit(x_train_poly, y_train)\n",
    "    y_pred_treino = modelo.predict(x_train_poly)\n",
    "    metricas_treino = calcular_metricas(y_train, y_pred_treino)\n",
    "    resultados_treinamento.append({\"Modelo\": nome, **metricas_treino})\n",
    "    print(f\"Modelo {nome} treinado.\")\n",
    "\n",
    "    # Validação\n",
    "    y_pred_val = modelo.predict(x_val_poly)\n",
    "    metricas_val = calcular_metricas(y_val, y_pred_val)\n",
    "    resultados_validacao.append({\"Modelo\": nome, **metricas_val})"
   ]
  },
  {
   "cell_type": "markdown",
   "id": "dd1da292-87a6-4ba9-be07-f895cf5d94f1",
   "metadata": {},
   "source": [
    "## 5.5 Performance"
   ]
  },
  {
   "cell_type": "code",
   "execution_count": 14,
   "id": "d6ea0412-e295-4d9d-8a77-8eba154785f0",
   "metadata": {},
   "outputs": [
    {
     "name": "stdout",
     "output_type": "stream",
     "text": [
      "Resultados de Treinamento:\n",
      "                              Modelo        R2         MSE       RMSE  \\\n",
      "0              Polinomial Regression  0.094195  432.986210  20.808321   \n",
      "1        Polinomial Regression Ridge  0.092544  433.775338  20.827274   \n",
      "2        Polinomial Regression Lasso  0.009150  473.638776  21.763244   \n",
      "3  Polinomial Regression Elastic Net  0.026167  465.504391  21.575551   \n",
      "\n",
      "         MAE      MAPE  \n",
      "0  16.458032  8.350540  \n",
      "1  16.479345  8.382553  \n",
      "2  17.285450  8.699701  \n",
      "3  17.120834  8.637742  \n",
      "\n",
      "Resultados de Validação:\n",
      "                              Modelo        R2         MSE       RMSE  \\\n",
      "0              Polinomial Regression  0.066477  445.768223  21.113224   \n",
      "1        Polinomial Regression Ridge  0.067695  445.186573  21.099445   \n",
      "2        Polinomial Regression Lasso  0.009631  472.912694  21.746556   \n",
      "3  Polinomial Regression Elastic Net  0.023532  466.274996  21.593402   \n",
      "\n",
      "         MAE      MAPE  \n",
      "0  16.749939  8.547931  \n",
      "1  16.739734  8.575067  \n",
      "2  17.238379  8.681847  \n",
      "3  17.102635  8.661508  \n"
     ]
    }
   ],
   "source": [
    "# Criando tabelas de resultados\n",
    "tabela_treinamento = pd.DataFrame(resultados_treinamento)\n",
    "tabela_validacao = pd.DataFrame(resultados_validacao)\n",
    "\n",
    "# Exibindo os resultados\n",
    "print(\"Resultados de Treinamento:\")\n",
    "print(tabela_treinamento)\n",
    "print(\"\\nResultados de Validação:\")\n",
    "print(tabela_validacao)"
   ]
  },
  {
   "cell_type": "markdown",
   "id": "c3306552-a18b-4b2e-b161-f6cc8671a393",
   "metadata": {},
   "source": [
    "## Dados de Teste"
   ]
  },
  {
   "cell_type": "code",
   "execution_count": 15,
   "id": "1ba994ed-595c-4dbd-a5a7-da749c9d00d2",
   "metadata": {},
   "outputs": [
    {
     "name": "stdout",
     "output_type": "stream",
     "text": [
      "Resultados no Conjunto de Teste:\n",
      "                              Modelo        R2         MSE       RMSE  \\\n",
      "0              Polinomial Regression  0.090079  443.041256  21.048545   \n",
      "1        Polinomial Regression Ridge  0.088422  443.848061  21.067702   \n",
      "2        Polinomial Regression Lasso  0.008372  482.824405  21.973266   \n",
      "3  Polinomial Regression Elastic Net  0.021274  476.542822  21.829861   \n",
      "\n",
      "         MAE      MAPE  \n",
      "0  16.720535  8.242464  \n",
      "1  16.735629  8.304551  \n",
      "2  17.456854  8.756072  \n",
      "3  17.313045  8.704860  \n"
     ]
    }
   ],
   "source": [
    "# Avaliação no conjunto de teste\n",
    "resultados_teste = []\n",
    "\n",
    "for nome, modelo in modelos.items():\n",
    "    y_pred_teste = modelo.predict(x_test_poly)\n",
    "    metricas_teste = calcular_metricas(y_test, y_pred_teste)\n",
    "    resultados_teste.append({\"Modelo\": nome, **metricas_teste})\n",
    "\n",
    "tabela_teste = pd.DataFrame(resultados_teste)\n",
    "print(\"Resultados no Conjunto de Teste:\")\n",
    "print(tabela_teste)"
   ]
  },
  {
   "cell_type": "code",
   "execution_count": null,
   "id": "d4d2cbaf-9040-4d9a-8007-761f30078f78",
   "metadata": {},
   "outputs": [],
   "source": []
  }
 ],
 "metadata": {
  "kernelspec": {
   "display_name": "Python 3 (ipykernel)",
   "language": "python",
   "name": "python3"
  },
  "language_info": {
   "codemirror_mode": {
    "name": "ipython",
    "version": 3
   },
   "file_extension": ".py",
   "mimetype": "text/x-python",
   "name": "python",
   "nbconvert_exporter": "python",
   "pygments_lexer": "ipython3",
   "version": "3.9.12"
  }
 },
 "nbformat": 4,
 "nbformat_minor": 5
}
